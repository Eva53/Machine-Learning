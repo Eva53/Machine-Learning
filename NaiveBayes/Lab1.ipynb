{
 "cells": [
  {
   "cell_type": "markdown",
   "id": "674cff22",
   "metadata": {},
   "source": [
    "# Задание 1 \n",
    "\n",
    "Исследуйте, как объем обучающей выборки и количество тестовых данных, влияет на точность классификации или на вероятность ошибочной классификации в примере крестики-нолики и примере о спаме e-mail сообщений."
   ]
  },
  {
   "cell_type": "markdown",
   "id": "83da6153",
   "metadata": {},
   "source": [
    "## Библиотеки"
   ]
  },
  {
   "cell_type": "code",
   "execution_count": 1,
   "id": "aba41cb4",
   "metadata": {},
   "outputs": [],
   "source": [
    "import pandas as pd\n",
    "\n",
    "import numpy as np\n",
    "\n",
    "from sklearn.model_selection import train_test_split\n",
    "from sklearn.naive_bayes import CategoricalNB, MultinomialNB, GaussianNB\n",
    "from sklearn.metrics import accuracy_score, confusion_matrix\n",
    "from sklearn.feature_extraction.text import CountVectorizer\n",
    "from sklearn.datasets import fetch_openml\n",
    "from sklearn.preprocessing import LabelEncoder\n",
    "\n",
    "import seaborn as sns\n",
    "import matplotlib.pyplot as plt"
   ]
  },
  {
   "cell_type": "markdown",
   "id": "250eeecf",
   "metadata": {},
   "source": [
    "## Крестики-нолики\n",
    "\n",
    "Обучающее множество: Tic Tac Toe (крестики-нолики)\n",
    "\"x\" начинает первым. Цель: \"победа x\"\n",
    "Признаки (категориальные – 3 значения):\n",
    "1. top-left-square: {x,o,b} \n",
    "2. top-middle-square: {x,o,b} \n",
    "3. top-right-square: {x,o,b} \n",
    "4. middle-left-square: {x,o,b} \n",
    "5. middle-middle-square: {x,o,b} \n",
    "6. middle-right-square: {x,o,b} \n",
    "7. bottom-left-square: {x,o,b} \n",
    "8. bottom-middle-square: {x,o,b} \n",
    "9. bottom-right-square: {x,o,b}\n",
    "\n",
    "3 класса: {positive,negative}\n"
   ]
  },
  {
   "cell_type": "code",
   "execution_count": 2,
   "id": "828f2042",
   "metadata": {},
   "outputs": [
    {
     "name": "stdout",
     "output_type": "stream",
     "text": [
      "Точность модели для тестовой выборки 10% от всего набора данных: 0.71875\n",
      "Точность модели для тестовой выборки 20% от всего набора данных: 0.6927083333333334\n",
      "Точность модели для тестовой выборки 30% от всего набора данных: 0.6875\n",
      "Точность модели для тестовой выборки 40% от всего набора данных: 0.6614583333333334\n",
      "Точность модели для тестовой выборки 50% от всего набора данных: 0.6910229645093946\n",
      "Точность модели для тестовой выборки 60% от всего набора данных: 0.6852173913043478\n",
      "Точность модели для тестовой выборки 70% от всего набора данных: 0.6944858420268256\n",
      "Точность модели для тестовой выборки 80% от всего набора данных: 0.6857887874837028\n",
      "Точность модели для тестовой выборки 90% от всего набора данных: 0.6628041714947857\n"
     ]
    }
   ],
   "source": [
    "with open(\"Tic_tac_toe.txt\", \"r\") as file:\n",
    "    lines = file.readlines()\n",
    "\n",
    "# Создание списка признаков и меток\n",
    "features = []\n",
    "labels = []\n",
    "for line in lines:\n",
    "    data = line.strip().split(\",\") \n",
    "    features.append(data[:-1])\n",
    "    labels.append(data[-1])\n",
    "\n",
    "char_to_int = {\"x\": 0, \"o\": 1, \"b\": 2}\n",
    "features_numeric = [[char_to_int[char] for char in row] for row in features]\n",
    "\n",
    "for test_size in range(1, 10):\n",
    "    test_size /= 10\n",
    "    X_train, X_test, y_train, y_test = train_test_split(features_numeric, labels, test_size=test_size, random_state=12345)\n",
    "\n",
    "    model = CategoricalNB()\n",
    "    model.fit(X_train, y_train)\n",
    "\n",
    "    predictions = model.predict(X_test)\n",
    "\n",
    "    accuracy = accuracy_score(y_test, predictions)\n",
    "    print(f\"Точность модели для тестовой выборки {int(test_size*100)}% от всего набора данных: {accuracy}\")\n",
    "\n",
    "# # Построение матрицы ошибок\n",
    "# conf_matrix = confusion_matrix(y_test, predictions)\n",
    "\n",
    "# plt.figure(figsize=(8, 6))\n",
    "# sns.heatmap(conf_matrix, annot=True, fmt='g', cmap='Blues', \n",
    "#             xticklabels=[\"Negative\", \"Positive\"],\n",
    "#             yticklabels=[\"Negative\", \"Positive\"])\n",
    "# plt.xlabel('Предсказанные значения')\n",
    "# plt.ylabel('Фактические значения')\n",
    "# plt.title('Матрица ошибок')\n",
    "# plt.show()"
   ]
  },
  {
   "cell_type": "markdown",
   "id": "6ea32768",
   "metadata": {},
   "source": [
    "## Спам\n",
    "\n",
    "Обучающее множество: Данные о спаме e-mail сообщений\n",
    "Данные собраны Hewlett-Packard Labs, которая классифицировала 4601 e-mail сообщений как спам или не спам. 57 признаков, содержащих частоты определенных слов, соответствующих названию признака и букв в сообщениях. Данные содержат 2788 e-mail сообщений, классифицируемых как \"не спам\" (0) and 1813 сообщений, классифицируемых как \"спам\" (1). Часть признаков – частоты определенных слов, соответствующих названию признака. Часть признаков связана с числом заглавных букв в письме. \n"
   ]
  },
  {
   "cell_type": "code",
   "execution_count": 3,
   "id": "b2878d62",
   "metadata": {},
   "outputs": [
    {
     "name": "stderr",
     "output_type": "stream",
     "text": [
      "/usr/local/Cellar/jupyterlab/3.6.1/libexec/lib/python3.11/site-packages/sklearn/datasets/_openml.py:1022: FutureWarning: The default value of `parser` will change from `'liac-arff'` to `'auto'` in 1.4. You can set `parser='auto'` to silence this warning. Therefore, an `ImportError` will be raised from 1.4 if the dataset is dense and pandas is not installed. Note that the pandas parser may return different data types. See the Notes Section in fetch_openml's API doc for details.\n",
      "  warn(\n"
     ]
    },
    {
     "name": "stdout",
     "output_type": "stream",
     "text": [
      "Точность модели для тестовой выборки 20 элементов от всего набора данных: 0.7\n",
      "Точность модели для тестовой выборки 40 элементов от всего набора данных: 0.75\n",
      "Точность модели для тестовой выборки 60 элементов от всего набора данных: 0.7333333333333333\n",
      "Точность модели для тестовой выборки 80 элементов от всего набора данных: 0.6875\n",
      "Точность модели для тестовой выборки 100 элементов от всего набора данных: 0.71\n",
      "Точность модели для тестовой выборки 120 элементов от всего набора данных: 0.7333333333333333\n",
      "Точность модели для тестовой выборки 140 элементов от всего набора данных: 0.7428571428571429\n",
      "Точность модели для тестовой выборки 160 элементов от всего набора данных: 0.75625\n",
      "Точность модели для тестовой выборки 180 элементов от всего набора данных: 0.7555555555555555\n",
      "Точность модели для тестовой выборки 200 элементов от всего набора данных: 0.75\n"
     ]
    }
   ],
   "source": [
    "# Загрузка встроенного набора данных Spambase\n",
    "data = fetch_openml(data_id=44)\n",
    "\n",
    "df = pd.DataFrame(data.data, columns=data.feature_names)\n",
    "df['label'] = data.target\n",
    "\n",
    "X = df.drop(columns=[\"label\"])  # Признаки\n",
    "y = df[\"label\"]  # Метки классов\n",
    "\n",
    "for test_size in range(20, 201, 20):\n",
    "    X_train, X_test, y_train, y_test = train_test_split(X, y, test_size=test_size, random_state=12345)\n",
    "\n",
    "    model = MultinomialNB()\n",
    "    model.fit(X_train, y_train)\n",
    "\n",
    "    predictions = model.predict(X_test)\n",
    "\n",
    "    accuracy = accuracy_score(y_test, predictions)\n",
    "    print(f\"Точность модели для тестовой выборки {test_size} элементов от всего набора данных: {accuracy}\")\n",
    "\n",
    "# # Построение матрицы ошибок\n",
    "# conf_matrix = confusion_matrix(y_test, predictions)\n",
    "\n",
    "# # Визуализация теплокарты матрицы ошибок\n",
    "# plt.figure(figsize=(8, 6))\n",
    "# sns.heatmap(conf_matrix, annot=True, fmt='g', cmap='Blues', \n",
    "#             xticklabels=[\"Не спам\", \"Спам\"],\n",
    "#             yticklabels=[\"Не спам\", \"Спам\"])\n",
    "# plt.xlabel('Предсказанные значения')\n",
    "# plt.ylabel('Фактические значения')\n",
    "# plt.title('Матрица ошибок')\n",
    "# plt.show()"
   ]
  },
  {
   "cell_type": "markdown",
   "id": "8481dabf",
   "metadata": {},
   "source": [
    "# Задание 2\n",
    "\n",
    "Сгенерируйте 100 точек с двумя признаками X1 и X2 в соответствии с нормальным распределением так, что первые 50 точек (class -1) имеют параметры: мат. ожидание X1  равно 10, мат. ожидание X2 равно 14, среднеквадратические отклонения для обеих переменных равны 4. Вторые 50 точек (class +1) имеют параметры: мат. ожидание X1 равно 20, мат. ожидание X2 равно 18, среднеквадратические отклонения для обеих переменных равны 3. Построить соответствующие диаграммы, иллюстрирующие данные. Построить байесовский классификатор и оценить качество классификации. "
   ]
  },
  {
   "cell_type": "code",
   "execution_count": 4,
   "id": "ab6749a3",
   "metadata": {},
   "outputs": [
    {
     "data": {
      "image/png": "[encoded data removed]",
      "text/plain": [
       "<Figure size 800x600 with 1 Axes>"
      ]
     },
     "metadata": {},
     "output_type": "display_data"
    }
   ],
   "source": [
    "# Генерация данных\n",
    "np.random.seed(12345)\n",
    "mean1, mean2 = [10, 14], [20, 18]\n",
    "std_dev1, std_dev2 = 4, 3\n",
    "\n",
    "class1_points = np.random.normal(mean1, std_dev1, size=(50, 2))\n",
    "class2_points = np.random.normal(mean2, std_dev2, size=(50, 2))\n",
    "\n",
    "plt.figure(figsize=(8, 6))\n",
    "plt.scatter(class1_points[:, 0], class1_points[:, 1], color='b', label='Class -1')\n",
    "plt.scatter(class2_points[:, 0], class2_points[:, 1], color='r', label='Class +1')\n",
    "plt.xlabel('X1')\n",
    "plt.ylabel('X2')\n",
    "plt.legend()\n",
    "plt.title('Сгенерированные данные')\n",
    "plt.show()"
   ]
  },
  {
   "cell_type": "code",
   "execution_count": 5,
   "id": "486d726e",
   "metadata": {},
   "outputs": [
    {
     "name": "stdout",
     "output_type": "stream",
     "text": [
      "Точность модели для тестовой выборки 10% от всего набора данных: 0.65625\n",
      "Точность модели для тестовой выборки 20% от всего набора данных: 0.6666666666666666\n",
      "Точность модели для тестовой выборки 30% от всего набора данных: 0.7083333333333334\n",
      "Точность модели для тестовой выборки 40% от всего набора данных: 0.6848958333333334\n",
      "Точность модели для тестовой выборки 50% от всего набора данных: 0.6576200417536534\n",
      "Точность модели для тестовой выборки 60% от всего набора данных: 0.6504347826086957\n",
      "Точность модели для тестовой выборки 70% от всего набора данных: 0.6482861400894188\n",
      "Точность модели для тестовой выборки 80% от всего набора данных: 0.6323337679269883\n",
      "Точность модели для тестовой выборки 90% от всего набора данных: 0.626882966396292\n"
     ]
    }
   ],
   "source": [
    "X = np.vstack((class1_points, class2_points))\n",
    "y = np.hstack((np.full(50, -1), np.full(50, 1)))\n",
    "\n",
    "for test_size in range(1, 10):\n",
    "    test_size /= 10\n",
    "    X_train, X_test, y_train, y_test = train_test_split(features_numeric, labels, test_size=test_size, random_state=12345)\n",
    "\n",
    "    classifier = GaussianNB()\n",
    "    model.fit(X_train, y_train)\n",
    "\n",
    "    predictions = model.predict(X_test)\n",
    "\n",
    "    accuracy = accuracy_score(y_test, predictions)\n",
    "    print(f\"Точность модели для тестовой выборки {int(test_size*100)}% от всего набора данных: {accuracy}\")"
   ]
  },
  {
   "cell_type": "markdown",
   "id": "a6a9f7da",
   "metadata": {},
   "source": [
    "# Задание 3\n",
    "\n",
    "Разработать байесовский классификатор для данных Титаник (Titanic dataset)\n",
    "\n",
    "Исходные обучающие данные для классификации – в файле Titanic_train.csv\n",
    "\n",
    "Данные для тестирования – в файле Titanic_test.csv\n",
    "\n",
    "Использовать функцию read.csv для чтения данных из csv-файлов.\n",
    "\n",
    "Классы:\n",
    "survival        Выжил  (0 = No; 1 = Yes)\n",
    "\n",
    "Признаки:\n",
    "pclass         Класс каюты  (1 = 1st; 2 = 2nd; 3 = 3rd)\n",
    "name          Имя\n",
    "sex             Пол\n",
    "age             Возраст\n",
    "sibsp           Число братьев-сестер/муж-жена на борту\n",
    "parch          Число родителей/детей на борту\n",
    "ticket          Номер билета\n",
    "fare             Стоимость билета\n",
    "cabin           Каюта\n",
    "embarked    Порт посадки (C = Cherbourg; Q = Queenstown; S = Southampton)\n",
    "\n",
    "Специальные отметки:\n",
    "Pclass: 1st ~ Верхний; 2nd ~ Средний; 3rd ~ Нижний\n",
    "Age – в годах; дробный, если возраст меньше одного года\n"
   ]
  },
  {
   "cell_type": "code",
   "execution_count": 6,
   "id": "8989102a",
   "metadata": {},
   "outputs": [],
   "source": [
    "train_data = pd.read_csv(\"train.csv\")\n",
    "test_data = pd.read_csv(\"test.csv\")"
   ]
  },
  {
   "cell_type": "code",
   "execution_count": 7,
   "id": "d3f4d90e",
   "metadata": {},
   "outputs": [],
   "source": [
    "# Подготовка данных\n",
    "def preprocess_data(data):\n",
    "    data.drop(columns=[\"Name\", \"Ticket\", \"Cabin\", \"PassengerId\"], inplace=True)\n",
    "    data[\"Age\"].fillna(data[\"Age\"].mean(), inplace=True)\n",
    "    data[\"Fare\"].fillna(data[\"Fare\"].mean(), inplace=True)\n",
    "    data[\"Embarked\"].fillna(data[\"Embarked\"].mode()[0], inplace=True)\n",
    "    \n",
    "    label_encoders = {}\n",
    "    categorical_features = [\"Sex\", \"Embarked\"]\n",
    "    for feature in categorical_features:\n",
    "        le = LabelEncoder()\n",
    "        data[feature] = le.fit_transform(data[feature])\n",
    "        label_encoders[feature] = le\n",
    "    \n",
    "    return data"
   ]
  },
  {
   "cell_type": "code",
   "execution_count": 8,
   "id": "b88182ab",
   "metadata": {},
   "outputs": [
    {
     "data": {
      "text/html": [
       "<style>#sk-container-id-1 {color: black;}#sk-container-id-1 pre{padding: 0;}#sk-container-id-1 div.sk-toggleable {background-color: white;}#sk-container-id-1 label.sk-toggleable__label {cursor: pointer;display: block;width: 100%;margin-bottom: 0;padding: 0.3em;box-sizing: border-box;text-align: center;}#sk-container-id-1 label.sk-toggleable__label-arrow:before {content: \"▸\";float: left;margin-right: 0.25em;color: #696969;}#sk-container-id-1 label.sk-toggleable__label-arrow:hover:before {color: black;}#sk-container-id-1 div.sk-estimator:hover label.sk-toggleable__label-arrow:before {color: black;}#sk-container-id-1 div.sk-toggleable__content {max-height: 0;max-width: 0;overflow: hidden;text-align: left;background-color: #f0f8ff;}#sk-container-id-1 div.sk-toggleable__content pre {margin: 0.2em;color: black;border-radius: 0.25em;background-color: #f0f8ff;}#sk-container-id-1 input.sk-toggleable__control:checked~div.sk-toggleable__content {max-height: 200px;max-width: 100%;overflow: auto;}#sk-container-id-1 input.sk-toggleable__control:checked~label.sk-toggleable__label-arrow:before {content: \"▾\";}#sk-container-id-1 div.sk-estimator input.sk-toggleable__control:checked~label.sk-toggleable__label {background-color: #d4ebff;}#sk-container-id-1 div.sk-label input.sk-toggleable__control:checked~label.sk-toggleable__label {background-color: #d4ebff;}#sk-container-id-1 input.sk-hidden--visually {border: 0;clip: rect(1px 1px 1px 1px);clip: rect(1px, 1px, 1px, 1px);height: 1px;margin: -1px;overflow: hidden;padding: 0;position: absolute;width: 1px;}#sk-container-id-1 div.sk-estimator {font-family: monospace;background-color: #f0f8ff;border: 1px dotted black;border-radius: 0.25em;box-sizing: border-box;margin-bottom: 0.5em;}#sk-container-id-1 div.sk-estimator:hover {background-color: #d4ebff;}#sk-container-id-1 div.sk-parallel-item::after {content: \"\";width: 100%;border-bottom: 1px solid gray;flex-grow: 1;}#sk-container-id-1 div.sk-label:hover label.sk-toggleable__label {background-color: #d4ebff;}#sk-container-id-1 div.sk-serial::before {content: \"\";position: absolute;border-left: 1px solid gray;box-sizing: border-box;top: 0;bottom: 0;left: 50%;z-index: 0;}#sk-container-id-1 div.sk-serial {display: flex;flex-direction: column;align-items: center;background-color: white;padding-right: 0.2em;padding-left: 0.2em;position: relative;}#sk-container-id-1 div.sk-item {position: relative;z-index: 1;}#sk-container-id-1 div.sk-parallel {display: flex;align-items: stretch;justify-content: center;background-color: white;position: relative;}#sk-container-id-1 div.sk-item::before, #sk-container-id-1 div.sk-parallel-item::before {content: \"\";position: absolute;border-left: 1px solid gray;box-sizing: border-box;top: 0;bottom: 0;left: 50%;z-index: -1;}#sk-container-id-1 div.sk-parallel-item {display: flex;flex-direction: column;z-index: 1;position: relative;background-color: white;}#sk-container-id-1 div.sk-parallel-item:first-child::after {align-self: flex-end;width: 50%;}#sk-container-id-1 div.sk-parallel-item:last-child::after {align-self: flex-start;width: 50%;}#sk-container-id-1 div.sk-parallel-item:only-child::after {width: 0;}#sk-container-id-1 div.sk-dashed-wrapped {border: 1px dashed gray;margin: 0 0.4em 0.5em 0.4em;box-sizing: border-box;padding-bottom: 0.4em;background-color: white;}#sk-container-id-1 div.sk-label label {font-family: monospace;font-weight: bold;display: inline-block;line-height: 1.2em;}#sk-container-id-1 div.sk-label-container {text-align: center;}#sk-container-id-1 div.sk-container {/* jupyter's `normalize.less` sets `[hidden] { display: none; }` but bootstrap.min.css set `[hidden] { display: none !important; }` so we also need the `!important` here to be able to override the default hidden behavior on the sphinx rendered scikit-learn.org. See: https://github.com/scikit-learn/scikit-learn/issues/21755 */display: inline-block !important;position: relative;}#sk-container-id-1 div.sk-text-repr-fallback {display: none;}</style><div id=\"sk-container-id-1\" class=\"sk-top-container\"><div class=\"sk-text-repr-fallback\"><pre>MultinomialNB()</pre><b>In a Jupyter environment, please rerun this cell to show the HTML representation or trust the notebook. <br />On GitHub, the HTML representation is unable to render, please try loading this page with nbviewer.org.</b></div><div class=\"sk-container\" hidden><div class=\"sk-item\"><div class=\"sk-estimator sk-toggleable\"><input class=\"sk-toggleable__control sk-hidden--visually\" id=\"sk-estimator-id-1\" type=\"checkbox\" checked><label for=\"sk-estimator-id-1\" class=\"sk-toggleable__label sk-toggleable__label-arrow\">MultinomialNB</label><div class=\"sk-toggleable__content\"><pre>MultinomialNB()</pre></div></div></div></div></div>"
      ],
      "text/plain": [
       "MultinomialNB()"
      ]
     },
     "execution_count": 8,
     "metadata": {},
     "output_type": "execute_result"
    }
   ],
   "source": [
    "train_data_preprocessed = preprocess_data(train_data)\n",
    "X_train = train_data_preprocessed.drop(columns=[\"Survived\"])\n",
    "\n",
    "classifier = MultinomialNB()\n",
    "classifier.fit(X_train, train_data_preprocessed[\"Survived\"])"
   ]
  },
  {
   "cell_type": "code",
   "execution_count": 9,
   "id": "11aec850",
   "metadata": {},
   "outputs": [],
   "source": [
    "test_data_preprocessed = preprocess_data(test_data)\n",
    "\n",
    "predictions = classifier.predict(test_data_preprocessed)"
   ]
  },
  {
   "cell_type": "code",
   "execution_count": 10,
   "id": "57fd8737",
   "metadata": {},
   "outputs": [
    {
     "name": "stdout",
     "output_type": "stream",
     "text": [
      "Количество выживших: 116\n",
      "Количество погибших: 302\n"
     ]
    }
   ],
   "source": [
    "survived_count = sum(predictions)\n",
    "died_count = len(predictions) - survived_count\n",
    "\n",
    "print(\"Количество выживших:\", survived_count)\n",
    "print(\"Количество погибших:\", died_count)"
   ]
  },
  {
   "cell_type": "code",
   "execution_count": null,
   "id": "735119b5",
   "metadata": {},
   "outputs": [],
   "source": []
  }
 ],
 "metadata": {
  "kernelspec": {
   "display_name": "Python 3 (ipykernel)",
   "language": "python",
   "name": "python3"
  },
  "language_info": {
   "codemirror_mode": {
    "name": "ipython",
    "version": 3
   },
   "file_extension": ".py",
   "mimetype": "text/x-python",
   "name": "python",
   "nbconvert_exporter": "python",
   "pygments_lexer": "ipython3",
   "version": "3.11.2"
  }
 },
 "nbformat": 4,
 "nbformat_minor": 5
}
